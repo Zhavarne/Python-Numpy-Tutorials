{
 "cells": [
  {
   "cell_type": "markdown",
   "id": "b65145fc",
   "metadata": {},
   "source": [
    "# Array Manipulation"
   ]
  },
  {
   "cell_type": "markdown",
   "id": "dd2bc455",
   "metadata": {},
   "source": [
    "#Array Manipulation - changing shape"
   ]
  },
  {
   "cell_type": "code",
   "execution_count": 3,
   "id": "d99837ca",
   "metadata": {},
   "outputs": [
    {
     "name": "stdout",
     "output_type": "stream",
     "text": [
      "The original array:\n",
      "[0 1 2 3 4 5 6 7 8]\n",
      "\n",
      "The modified array:\n",
      "[[0 1 2]\n",
      " [3 4 5]\n",
      " [6 7 8]]\n"
     ]
    }
   ],
   "source": [
    "import numpy as np\n",
    "\n",
    "a = np.arange(9)\n",
    "print('The original array:')\n",
    "print(a)\n",
    "print() #to create a space\n",
    "\n",
    "b = a.reshape(3,3)\n",
    "print(\"The modified array:\")\n",
    "print(b)"
   ]
  },
  {
   "cell_type": "code",
   "execution_count": 4,
   "id": "b5bca9e2",
   "metadata": {},
   "outputs": [
    {
     "name": "stdout",
     "output_type": "stream",
     "text": [
      "[0 1 2 3 4 5 6 7 8]\n"
     ]
    }
   ],
   "source": [
    "print(b.flatten())"
   ]
  },
  {
   "cell_type": "code",
   "execution_count": 5,
   "id": "9b2ce424",
   "metadata": {},
   "outputs": [
    {
     "data": {
      "text/plain": [
       "array([0, 3, 6, 1, 4, 7, 2, 5, 8])"
      ]
     },
     "execution_count": 5,
     "metadata": {},
     "output_type": "execute_result"
    }
   ],
   "source": [
    "b.flatten(order = 'F')   #fortran...default is 'order = C'  (F = column order)"
   ]
  },
  {
   "cell_type": "code",
   "execution_count": 6,
   "id": "dd42b26b",
   "metadata": {},
   "outputs": [
    {
     "data": {
      "text/plain": [
       "array([[ 0,  1,  2],\n",
       "       [ 3,  4,  5],\n",
       "       [ 6,  7,  8],\n",
       "       [ 9, 10, 11]])"
      ]
     },
     "execution_count": 6,
     "metadata": {},
     "output_type": "execute_result"
    }
   ],
   "source": [
    "a = np.arange(12).reshape(4,3)\n",
    "a"
   ]
  },
  {
   "cell_type": "code",
   "execution_count": 7,
   "id": "160b8bc7",
   "metadata": {},
   "outputs": [
    {
     "data": {
      "text/plain": [
       "array([[ 0,  3,  6,  9],\n",
       "       [ 1,  4,  7, 10],\n",
       "       [ 2,  5,  8, 11]])"
      ]
     },
     "execution_count": 7,
     "metadata": {},
     "output_type": "execute_result"
    }
   ],
   "source": [
    "np.transpose(a)"
   ]
  },
  {
   "cell_type": "code",
   "execution_count": 9,
   "id": "16eb1ab2",
   "metadata": {},
   "outputs": [
    {
     "data": {
      "text/plain": [
       "array([[0, 1, 2, 3],\n",
       "       [4, 5, 6, 7]])"
      ]
     },
     "execution_count": 9,
     "metadata": {},
     "output_type": "execute_result"
    }
   ],
   "source": [
    "b = np.arange(8).reshape(2,4)\n",
    "b"
   ]
  },
  {
   "cell_type": "code",
   "execution_count": 12,
   "id": "a3ef314f",
   "metadata": {},
   "outputs": [],
   "source": [
    "c = b.reshape(2,2,2)"
   ]
  },
  {
   "cell_type": "code",
   "execution_count": 13,
   "id": "de980666",
   "metadata": {},
   "outputs": [
    {
     "data": {
      "text/plain": [
       "array([[[0, 1],\n",
       "        [4, 5]],\n",
       "\n",
       "       [[2, 3],\n",
       "        [6, 7]]])"
      ]
     },
     "execution_count": 13,
     "metadata": {},
     "output_type": "execute_result"
    }
   ],
   "source": [
    "np.rollaxis(c, 1)"
   ]
  },
  {
   "cell_type": "code",
   "execution_count": 14,
   "id": "7522e568",
   "metadata": {},
   "outputs": [
    {
     "data": {
      "text/plain": [
       "array([[[0, 2],\n",
       "        [1, 3]],\n",
       "\n",
       "       [[4, 6],\n",
       "        [5, 7]]])"
      ]
     },
     "execution_count": 14,
     "metadata": {},
     "output_type": "execute_result"
    }
   ],
   "source": [
    "np.rollaxis(c, 2, 1)"
   ]
  },
  {
   "cell_type": "code",
   "execution_count": 16,
   "id": "eec45e52",
   "metadata": {},
   "outputs": [
    {
     "data": {
      "text/plain": [
       "array([[[0, 2],\n",
       "        [1, 3]],\n",
       "\n",
       "       [[4, 6],\n",
       "        [5, 7]]])"
      ]
     },
     "execution_count": 16,
     "metadata": {},
     "output_type": "execute_result"
    }
   ],
   "source": [
    "np.swapaxes(c, 1, 2)"
   ]
  },
  {
   "cell_type": "markdown",
   "id": "72b7325e",
   "metadata": {},
   "source": [
    "# Numpy Arithmetic Operations "
   ]
  },
  {
   "cell_type": "code",
   "execution_count": 18,
   "id": "5fb15203",
   "metadata": {},
   "outputs": [
    {
     "data": {
      "text/plain": [
       "array([[0, 1, 2],\n",
       "       [3, 4, 5],\n",
       "       [6, 7, 8]])"
      ]
     },
     "execution_count": 18,
     "metadata": {},
     "output_type": "execute_result"
    }
   ],
   "source": [
    "a = np.arange(9).reshape(3,3)\n",
    "a"
   ]
  },
  {
   "cell_type": "code",
   "execution_count": 20,
   "id": "9c182b0a",
   "metadata": {},
   "outputs": [
    {
     "data": {
      "text/plain": [
       "array([10, 10, 10])"
      ]
     },
     "execution_count": 20,
     "metadata": {},
     "output_type": "execute_result"
    }
   ],
   "source": [
    "b = np.array([10, 10, 10])\n",
    "b"
   ]
  },
  {
   "cell_type": "code",
   "execution_count": 21,
   "id": "54f869a8",
   "metadata": {},
   "outputs": [
    {
     "data": {
      "text/plain": [
       "array([[10, 11, 12],\n",
       "       [13, 14, 15],\n",
       "       [16, 17, 18]])"
      ]
     },
     "execution_count": 21,
     "metadata": {},
     "output_type": "execute_result"
    }
   ],
   "source": [
    "np.add(a, b)"
   ]
  },
  {
   "cell_type": "code",
   "execution_count": 23,
   "id": "4e1a4660",
   "metadata": {},
   "outputs": [],
   "source": [
    "#np.subtract(a, b)\n",
    "#np.multiply(a, b)\n",
    "#np.divide(a, b)"
   ]
  },
  {
   "cell_type": "markdown",
   "id": "931b6dde",
   "metadata": {},
   "source": [
    "# Slicing "
   ]
  },
  {
   "cell_type": "code",
   "execution_count": 24,
   "id": "f15e37b1",
   "metadata": {},
   "outputs": [
    {
     "data": {
      "text/plain": [
       "array([ 0,  1,  2,  3,  4,  5,  6,  7,  8,  9, 10, 11, 12, 13, 14, 15, 16,\n",
       "       17, 18, 19])"
      ]
     },
     "execution_count": 24,
     "metadata": {},
     "output_type": "execute_result"
    }
   ],
   "source": [
    "a = np.arange(20)\n",
    "a"
   ]
  },
  {
   "cell_type": "code",
   "execution_count": 25,
   "id": "41472c05",
   "metadata": {},
   "outputs": [
    {
     "data": {
      "text/plain": [
       "array([0, 1, 2, 3])"
      ]
     },
     "execution_count": 25,
     "metadata": {},
     "output_type": "execute_result"
    }
   ],
   "source": [
    "a[:4]\n"
   ]
  },
  {
   "cell_type": "code",
   "execution_count": 26,
   "id": "17d029dd",
   "metadata": {},
   "outputs": [
    {
     "data": {
      "text/plain": [
       "6"
      ]
     },
     "execution_count": 26,
     "metadata": {},
     "output_type": "execute_result"
    }
   ],
   "source": [
    "a[6]\n"
   ]
  },
  {
   "cell_type": "code",
   "execution_count": 27,
   "id": "575cd3fc",
   "metadata": {},
   "outputs": [
    {
     "data": {
      "text/plain": [
       "array([2, 4, 6, 8])"
      ]
     },
     "execution_count": 27,
     "metadata": {},
     "output_type": "execute_result"
    }
   ],
   "source": [
    "s = slice(2, 9, 2)  #from 2 till 9 in steps of 2\n",
    "a[s]"
   ]
  },
  {
   "cell_type": "markdown",
   "id": "bab2ab76",
   "metadata": {},
   "source": [
    "# Iterating over array "
   ]
  },
  {
   "cell_type": "code",
   "execution_count": 30,
   "id": "e7ca7cee",
   "metadata": {},
   "outputs": [
    {
     "data": {
      "text/plain": [
       "array([[ 0,  5, 10],\n",
       "       [15, 20, 25],\n",
       "       [30, 35, 40]])"
      ]
     },
     "execution_count": 30,
     "metadata": {},
     "output_type": "execute_result"
    }
   ],
   "source": [
    "a = np.arange(0, 45, 5)\n",
    "a = a.reshape(3,3)\n",
    "a"
   ]
  },
  {
   "cell_type": "code",
   "execution_count": 33,
   "id": "0b5ae2c6",
   "metadata": {},
   "outputs": [
    {
     "name": "stdout",
     "output_type": "stream",
     "text": [
      "0\n",
      "5\n",
      "10\n",
      "15\n",
      "20\n",
      "25\n",
      "30\n",
      "35\n",
      "40\n"
     ]
    }
   ],
   "source": [
    "for x in np.nditer(a):\n",
    "    print(x)"
   ]
  },
  {
   "cell_type": "markdown",
   "id": "390dd21e",
   "metadata": {},
   "source": [
    "# Iteration order (C and F style)"
   ]
  },
  {
   "cell_type": "code",
   "execution_count": 34,
   "id": "814d4922",
   "metadata": {},
   "outputs": [
    {
     "name": "stdout",
     "output_type": "stream",
     "text": [
      "[[ 0  5 10]\n",
      " [15 20 25]\n",
      " [30 35 40]]\n",
      "0\n",
      "5\n",
      "10\n",
      "15\n",
      "20\n",
      "25\n",
      "30\n",
      "35\n",
      "40\n",
      "0\n",
      "15\n",
      "30\n",
      "5\n",
      "20\n",
      "35\n",
      "10\n",
      "25\n",
      "40\n"
     ]
    }
   ],
   "source": [
    "print(a)\n",
    "for x in np.nditer(a, order = 'C'):\n",
    "    print(x)\n",
    "    \n",
    "for x in np.nditer(a, order = 'F'):\n",
    "    print(x)"
   ]
  },
  {
   "cell_type": "markdown",
   "id": "c54a244e",
   "metadata": {},
   "source": [
    "# Joining Arrays "
   ]
  },
  {
   "cell_type": "code",
   "execution_count": 40,
   "id": "9f494c69",
   "metadata": {},
   "outputs": [
    {
     "name": "stdout",
     "output_type": "stream",
     "text": [
      "first array\n",
      "[[1 2]\n",
      " [3 4]]\n",
      "second array\n",
      "[[5 6]\n",
      " [7 8]]\n",
      "\n",
      "\n",
      "Joining the two arrays along axis 0: \n",
      "[[1 2]\n",
      " [3 4]\n",
      " [5 6]\n",
      " [7 8]]\n",
      "\n",
      "Joining the two arrays along axis 1: \n",
      "[[1 2 5 6]\n",
      " [3 4 7 8]]\n",
      "\n"
     ]
    }
   ],
   "source": [
    "a = np.array([[1,2], [3,4]])\n",
    "print('first array')\n",
    "print(a)\n",
    "\n",
    "b= np.array([[5,6], [7,8]])\n",
    "print('second array')\n",
    "print(b)\n",
    "print( '\\n')\n",
    "print('Joining the two arrays along axis 0: ')\n",
    "print(np.concatenate((a,b)))\n",
    "print()\n",
    "\n",
    "print('Joining the two arrays along axis 1: ')\n",
    "print(np.concatenate((a,b), axis = 1))\n",
    "print()"
   ]
  },
  {
   "cell_type": "markdown",
   "id": "420f5c9b",
   "metadata": {},
   "source": [
    "# Splitting Array "
   ]
  },
  {
   "cell_type": "code",
   "execution_count": 41,
   "id": "7ba04f4b",
   "metadata": {},
   "outputs": [
    {
     "data": {
      "text/plain": [
       "[array([0, 1, 2]), array([3, 4, 5]), array([6, 7, 8])]"
      ]
     },
     "execution_count": 41,
     "metadata": {},
     "output_type": "execute_result"
    }
   ],
   "source": [
    "a = np.arange(9)\n",
    "np.split(a, 3)  #split a into 3 seperate arrays"
   ]
  },
  {
   "cell_type": "code",
   "execution_count": 42,
   "id": "b6d7ab75",
   "metadata": {},
   "outputs": [
    {
     "data": {
      "text/plain": [
       "[array([0, 1, 2, 3]), array([4]), array([5, 6, 7, 8])]"
      ]
     },
     "execution_count": 42,
     "metadata": {},
     "output_type": "execute_result"
    }
   ],
   "source": [
    "np.split(a, [4,5]) # seperating arrays by 4"
   ]
  },
  {
   "cell_type": "code",
   "execution_count": 43,
   "id": "e5e00052",
   "metadata": {},
   "outputs": [
    {
     "data": {
      "text/plain": [
       "[array([0, 1, 2, 3]), array([4, 5, 6]), array([7, 8])]"
      ]
     },
     "execution_count": 43,
     "metadata": {},
     "output_type": "execute_result"
    }
   ],
   "source": [
    "np.split(a, [4,7]) "
   ]
  },
  {
   "cell_type": "markdown",
   "id": "eedd3ebb",
   "metadata": {},
   "source": [
    "# Resizing an Array"
   ]
  },
  {
   "cell_type": "code",
   "execution_count": 46,
   "id": "689a0ee8",
   "metadata": {},
   "outputs": [
    {
     "name": "stdout",
     "output_type": "stream",
     "text": [
      "[[1 2 5]\n",
      " [3 4 6]]\n",
      "(2, 3)\n",
      "\n",
      "\n",
      "[[1 2]\n",
      " [5 3]\n",
      " [4 6]]\n",
      "(3, 2)\n",
      "\n",
      "\n",
      "[[1 2 5]\n",
      " [3 4 6]\n",
      " [1 2 5]]\n",
      "(3, 3)\n"
     ]
    }
   ],
   "source": [
    "a = np.array([[1,2,5], [3,4,6]])\n",
    "print(a)\n",
    "print(a.shape)\n",
    "print('\\n')\n",
    "b= np.resize(a, (3,2))\n",
    "print(b)\n",
    "print(b.shape)\n",
    "print('\\n')\n",
    "\n",
    "#it is interesting that the resizing can just be any numbers\n",
    "b= np.resize(a, (3,3))\n",
    "print(b)\n",
    "print(b.shape)"
   ]
  },
  {
   "cell_type": "markdown",
   "id": "4b1c130a",
   "metadata": {},
   "source": [
    "# Histogram"
   ]
  },
  {
   "cell_type": "code",
   "execution_count": 47,
   "id": "576f6829",
   "metadata": {},
   "outputs": [
    {
     "name": "stderr",
     "output_type": "stream",
     "text": [
      "Matplotlib is building the font cache; this may take a moment.\n"
     ]
    }
   ],
   "source": [
    "from matplotlib import pyplot as plt\n"
   ]
  },
  {
   "cell_type": "code",
   "execution_count": 49,
   "id": "81372068",
   "metadata": {},
   "outputs": [
    {
     "data": {
      "image/png": "[encoded data removed]",
      "text/plain": [
       "<Figure size 432x288 with 1 Axes>"
      ]
     },
     "metadata": {
      "needs_background": "light"
     },
     "output_type": "display_data"
    }
   ],
   "source": [
    "a = np.array([20, 87, 4, 40, 53, 74, 56, 51, 11, 20, 40, 15, 79, 25, 27])\n",
    "plt.hist(a, bins = [0, 20, 40, 60, 80, 100])\n",
    "plt.title(\"Hisssstogram\")\n",
    "plt.show()"
   ]
  },
  {
   "cell_type": "code",
   "execution_count": 52,
   "id": "94de7bd3",
   "metadata": {},
   "outputs": [
    {
     "data": {
      "image/png": "[encoded data removed]",
      "text/plain": [
       "<Figure size 432x288 with 1 Axes>"
      ]
     },
     "metadata": {
      "needs_background": "light"
     },
     "output_type": "display_data"
    }
   ],
   "source": [
    "plt.hist(a, bins = [0,10,20,30,40,50,60,70,80,90,100])\n",
    "plt.title(\"Hisssstogram Number 2\")\n",
    "plt.show()"
   ]
  },
  {
   "cell_type": "markdown",
   "id": "48910b48",
   "metadata": {},
   "source": [
    "# Other Useful functions in numpy"
   ]
  },
  {
   "cell_type": "code",
   "execution_count": 54,
   "id": "fc996c36",
   "metadata": {},
   "outputs": [
    {
     "name": "stdout",
     "output_type": "stream",
     "text": [
      "[1.         1.22222222 1.44444444 1.66666667 1.88888889 2.11111111\n",
      " 2.33333333 2.55555556 2.77777778 3.        ]\n"
     ]
    }
   ],
   "source": [
    "#linspace function\n",
    "\n",
    "a = np.linspace(1, 3, 10)\n",
    "print(a)"
   ]
  },
  {
   "cell_type": "code",
   "execution_count": 56,
   "id": "1127e90a",
   "metadata": {},
   "outputs": [
    {
     "name": "stdout",
     "output_type": "stream",
     "text": [
      "[5 7 9]\n"
     ]
    }
   ],
   "source": [
    "#summations and axis\n",
    "\n",
    "a =np.array([(1,2,3), (4,5,6)])\n",
    "print(a.sum(axis = 0))"
   ]
  },
  {
   "cell_type": "code",
   "execution_count": 57,
   "id": "7f47f610",
   "metadata": {},
   "outputs": [
    {
     "name": "stdout",
     "output_type": "stream",
     "text": [
      "[[1.         1.41421356 1.73205081]\n",
      " [2.         2.23606798 2.44948974]]\n",
      "1.707825127659933\n"
     ]
    }
   ],
   "source": [
    "#square root and standard deviation\n",
    "\n",
    "a =np.array([(1,2,3), (4,5,6)])\n",
    "print(np.sqrt(a))\n",
    "print(np.std(a))"
   ]
  },
  {
   "cell_type": "code",
   "execution_count": 58,
   "id": "88304584",
   "metadata": {},
   "outputs": [
    {
     "name": "stdout",
     "output_type": "stream",
     "text": [
      "[1 2 3 4 5 6]\n"
     ]
    }
   ],
   "source": [
    "#ravel function\n",
    "\n",
    "x = np.array([(1,2,3), (4,5,6)])\n",
    "print(x.ravel())\n",
    "#ravel can be done by columns too"
   ]
  },
  {
   "cell_type": "code",
   "execution_count": 59,
   "id": "12c585ed",
   "metadata": {},
   "outputs": [
    {
     "name": "stdout",
     "output_type": "stream",
     "text": [
      "[0.         0.30103    0.47712125]\n"
     ]
    }
   ],
   "source": [
    "a = np.array([1, 2, 3])\n",
    "print(np.log10(a))"
   ]
  },
  {
   "cell_type": "markdown",
   "id": "115daae7",
   "metadata": {},
   "source": [
    "# Numpy Practice Example"
   ]
  },
  {
   "cell_type": "code",
   "execution_count": 61,
   "id": "c0e833da",
   "metadata": {},
   "outputs": [
    {
     "data": {
      "image/png": "[encoded data removed]",
      "text/plain": [
       "<Figure size 432x288 with 1 Axes>"
      ]
     },
     "metadata": {
      "needs_background": "light"
     },
     "output_type": "display_data"
    }
   ],
   "source": [
    "#Plot a sine wave\n",
    "import numpy as np\n",
    "import matplotlib.pyplot as plt\n",
    "\n",
    "x = np.arange(0, 3*np.pi, 0.1)\n",
    "y = np.sin(x)\n",
    "plt.plot(x, y)\n",
    "plt.show()"
   ]
  },
  {
   "cell_type": "code",
   "execution_count": 65,
   "id": "d8728737",
   "metadata": {},
   "outputs": [
    {
     "name": "stdout",
     "output_type": "stream",
     "text": [
      "[[0 1 0 1 0 1]\n",
      " [1 0 1 0 1 0]\n",
      " [0 1 0 1 0 1]\n",
      " [1 0 1 0 1 0]\n",
      " [0 1 0 1 0 1]\n",
      " [1 0 1 0 1 0]]\n"
     ]
    }
   ],
   "source": [
    "#Create a 6x6 two dimensional array, and let 1 and 0 be placed alternatively accross the diagonals\n",
    "z = np.zeros((6,6), dtype = int)\n",
    "z[1::2, ::2] = 1\n",
    "z[::2,1 ::2] = 1\n",
    "print(z)"
   ]
  },
  {
   "cell_type": "code",
   "execution_count": 71,
   "id": "a03da585",
   "metadata": {},
   "outputs": [
    {
     "data": {
      "text/plain": [
       "array([[0.45924963, 0.4121843 , 0.50291988, 0.93690883, 0.62001947,\n",
       "        0.62036219, 0.66242441, 0.4711401 , 0.31348716, 0.64403394],\n",
       "       [       nan, 0.72112046, 0.87572127, 0.51587043, 0.06454881,\n",
       "        0.81018134, 0.80523609, 0.43525985, 0.44116167, 0.88347713],\n",
       "       [0.30708959, 0.09723781, 0.68616606, 0.26450124, 0.85211677,\n",
       "        0.65688261,        nan, 0.03383875, 0.64130023, 0.98093988],\n",
       "       [0.38947232, 0.64246456, 0.00802422, 0.08434678, 0.86707193,\n",
       "        0.89244427, 0.36553016, 0.96712996, 0.51338076, 0.65408057],\n",
       "       [0.25496995, 0.30400997, 0.06550994, 0.14728701, 0.25412409,\n",
       "        0.56160651,        nan, 0.57271828, 0.84589564, 0.44604526],\n",
       "       [0.11603856, 0.0262489 , 0.44010232, 0.77575423, 0.50638898,\n",
       "        0.87491598, 0.39254603, 0.21316312, 0.84659542, 0.11155688],\n",
       "       [0.03164296, 0.22572182, 0.05728255, 0.07811429, 0.5372788 ,\n",
       "        0.51571757, 0.07284673, 0.97872695, 0.43624561, 0.50750879],\n",
       "       [0.72567975, 0.2042014 , 0.04280613, 0.26736553, 0.9194386 ,\n",
       "        0.6054654 , 0.82049705, 0.31711909, 0.2025693 , 0.82550358],\n",
       "       [0.75738405, 0.09663996, 0.47639573, 0.19027676, 0.61909006,\n",
       "        0.88991958, 0.05543708, 0.76979892, 0.38947825, 0.17659206],\n",
       "       [       nan, 0.96287975, 0.27260632, 0.74773036, 0.24403477,\n",
       "        0.43997422,        nan, 0.2520518 , 0.49878497,        nan]])"
      ]
     },
     "execution_count": 71,
     "metadata": {},
     "output_type": "execute_result"
    }
   ],
   "source": [
    "#Find the total number and loations of missing values in the array\n",
    "\n",
    "z = np.random.rand(10,10)\n",
    "z[np.random.randint(10, size = 6), np.random.randint(10, size = 6)] = np.nan\n",
    "z"
   ]
  },
  {
   "cell_type": "code",
   "execution_count": 74,
   "id": "e04f6530",
   "metadata": {},
   "outputs": [
    {
     "name": "stdout",
     "output_type": "stream",
     "text": [
      "Total number of missing values: \n",
      " 6\n",
      "Indexes of missing values: \n",
      " [[1 0]\n",
      " [2 6]\n",
      " [4 6]\n",
      " [9 0]\n",
      " [9 6]\n",
      " [9 9]]\n",
      "(array([1, 2, 4, 9, 9, 9], dtype=int64), array([0, 6, 6, 0, 6, 9], dtype=int64))\n"
     ]
    },
    {
     "data": {
      "text/plain": [
       "array([[0.45924963, 0.4121843 , 0.50291988, 0.93690883, 0.62001947,\n",
       "        0.62036219, 0.66242441, 0.4711401 , 0.31348716, 0.64403394],\n",
       "       [0.        , 0.72112046, 0.87572127, 0.51587043, 0.06454881,\n",
       "        0.81018134, 0.80523609, 0.43525985, 0.44116167, 0.88347713],\n",
       "       [0.30708959, 0.09723781, 0.68616606, 0.26450124, 0.85211677,\n",
       "        0.65688261, 0.        , 0.03383875, 0.64130023, 0.98093988],\n",
       "       [0.38947232, 0.64246456, 0.00802422, 0.08434678, 0.86707193,\n",
       "        0.89244427, 0.36553016, 0.96712996, 0.51338076, 0.65408057],\n",
       "       [0.25496995, 0.30400997, 0.06550994, 0.14728701, 0.25412409,\n",
       "        0.56160651, 0.        , 0.57271828, 0.84589564, 0.44604526],\n",
       "       [0.11603856, 0.0262489 , 0.44010232, 0.77575423, 0.50638898,\n",
       "        0.87491598, 0.39254603, 0.21316312, 0.84659542, 0.11155688],\n",
       "       [0.03164296, 0.22572182, 0.05728255, 0.07811429, 0.5372788 ,\n",
       "        0.51571757, 0.07284673, 0.97872695, 0.43624561, 0.50750879],\n",
       "       [0.72567975, 0.2042014 , 0.04280613, 0.26736553, 0.9194386 ,\n",
       "        0.6054654 , 0.82049705, 0.31711909, 0.2025693 , 0.82550358],\n",
       "       [0.75738405, 0.09663996, 0.47639573, 0.19027676, 0.61909006,\n",
       "        0.88991958, 0.05543708, 0.76979892, 0.38947825, 0.17659206],\n",
       "       [0.        , 0.96287975, 0.27260632, 0.74773036, 0.24403477,\n",
       "        0.43997422, 0.        , 0.2520518 , 0.49878497, 0.        ]])"
      ]
     },
     "execution_count": 74,
     "metadata": {},
     "output_type": "execute_result"
    }
   ],
   "source": [
    "print('Total number of missing values: \\n', np.isnan(z).sum())\n",
    "print('Indexes of missing values: \\n', np.argwhere(np.isnan(z)))\n",
    "inds = np.where(np.isnan(z))\n",
    "print(inds)\n",
    "z[inds] = 0\n",
    "z"
   ]
  },
  {
   "cell_type": "code",
   "execution_count": null,
   "id": "5f8c551d",
   "metadata": {},
   "outputs": [],
   "source": []
  }
 ],
 "metadata": {
  "kernelspec": {
   "display_name": "Python 3 (ipykernel)",
   "language": "python",
   "name": "python3"
  },
  "language_info": {
   "codemirror_mode": {
    "name": "ipython",
    "version": 3
   },
   "file_extension": ".py",
   "mimetype": "text/x-python",
   "name": "python",
   "nbconvert_exporter": "python",
   "pygments_lexer": "ipython3",
   "version": "3.9.7"
  }
 },
 "nbformat": 4,
 "nbformat_minor": 5
}
